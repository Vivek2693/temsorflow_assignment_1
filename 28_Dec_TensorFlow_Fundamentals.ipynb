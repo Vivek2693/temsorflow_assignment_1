{
 "cells": [
  {
   "cell_type": "markdown",
   "id": "b4b1b557",
   "metadata": {},
   "source": [
    "# TensorFlow Fundamentals Assignment\n",
    "\n",
    "**Data Science Masters 2.0**"
   ]
  },
  {
   "cell_type": "markdown",
   "id": "6f286f52",
   "metadata": {},
   "source": [
    "\n",
    "## Objective\n",
    "\n",
    "This assignment covers fundamental operations in TensorFlow, including:\n",
    "- Creating and manipulating matrices.\n",
    "- Performing arithmetic operations on tensors.\n",
    "- Understanding TensorFlow constants and variables.\n",
    "\n",
    "### Structure\n",
    "1. **Theoretical Questions**\n",
    "2. **Practical Implementation**\n"
   ]
  },
  {
   "cell_type": "markdown",
   "id": "90ac6747",
   "metadata": {},
   "source": [
    "## Part 1: Theoretical Questions"
   ]
  },
  {
   "cell_type": "markdown",
   "id": "a5eef0c8",
   "metadata": {},
   "source": [
    "### 1. What are the different data structures used in TensorFlow?"
   ]
  },
  {
   "cell_type": "markdown",
   "id": "9150df71",
   "metadata": {},
   "source": [
    "\n",
    "TensorFlow provides several data structures, including:\n",
    "- **Tensors**: Multidimensional arrays (n-dimensional). They are the core data structure in TensorFlow.\n",
    "  - Examples: Scalars (rank 0), Vectors (rank 1), Matrices (rank 2).\n",
    "- **Variables**: Used to store mutable state during model training.\n",
    "- **Sparse Tensors**: Efficient representation for tensors with many zero entries.\n",
    "- **Ragged Tensors**: Tensors with variable-length dimensions.\n",
    "- **Datasets**: Used for input pipelines to train models.\n",
    "\n",
    "**Examples:**\n",
    "```python\n",
    "import tensorflow as tf\n",
    "scalar = tf.constant(5)\n",
    "vector = tf.constant([1, 2, 3])\n",
    "matrix = tf.constant([[1, 2], [3, 4]])\n",
    "```\n"
   ]
  },
  {
   "cell_type": "markdown",
   "id": "683ebe5d",
   "metadata": {},
   "source": [
    "### 2. How does the TensorFlow constant differ from a TensorFlow variable?"
   ]
  },
  {
   "cell_type": "markdown",
   "id": "dd9542cd",
   "metadata": {},
   "source": [
    "\n",
    "A **TensorFlow constant** is immutable, meaning its value cannot be changed once created. In contrast, a **TensorFlow variable** is mutable, and its value can be updated during execution.\n",
    "\n",
    "**Example:**\n",
    "```python\n",
    "import tensorflow as tf\n",
    "# Constant\n",
    "const = tf.constant(10)\n",
    "# Variable\n",
    "var = tf.Variable(10)\n",
    "var.assign(20)  # Update the variable\n",
    "```\n"
   ]
  },
  {
   "cell_type": "markdown",
   "id": "be7a3857",
   "metadata": {},
   "source": [
    "### 3. Describe the process of matrix addition, multiplication, and element-wise operations in TensorFlow."
   ]
  },
  {
   "cell_type": "markdown",
   "id": "a5690320",
   "metadata": {},
   "source": [
    "\n",
    "**Matrix Operations in TensorFlow:**\n",
    "- **Addition**: Adds corresponding elements of two matrices.\n",
    "```python\n",
    "A + B\n",
    "```\n",
    "- **Multiplication**: Performs matrix multiplication using the dot product.\n",
    "```python\n",
    "tf.matmul(A, B)\n",
    "```\n",
    "- **Element-wise Operations**: Applies operations to individual elements.\n",
    "```python\n",
    "A * B\n",
    "```\n"
   ]
  },
  {
   "cell_type": "markdown",
   "id": "62aa4156",
   "metadata": {},
   "source": [
    "## Part 2: Practical Implementation"
   ]
  },
  {
   "cell_type": "markdown",
   "id": "41ffc024",
   "metadata": {},
   "source": [
    "### Task 1: Creating and Manipulating Matrices"
   ]
  },
  {
   "cell_type": "code",
   "execution_count": null,
   "id": "28280157",
   "metadata": {},
   "outputs": [],
   "source": [
    "\n",
    "import tensorflow as tf\n",
    "\n",
    "# Matrix A: 3x3 random_normal\n",
    "A = tf.random.normal([3, 3])\n",
    "print(\"Matrix A:\\n\", A.numpy())\n",
    "\n",
    "# Matrix B: 4x4 truncated_normal\n",
    "B = tf.random.truncated_normal([4, 4])\n",
    "print(\"\\nMatrix B:\\n\", B.numpy())\n",
    "\n",
    "# Matrix C: 2x2 random.normal with mean=3, stddev=0.5\n",
    "C = tf.random.normal([2, 2], mean=3, stddev=0.5)\n",
    "print(\"\\nMatrix C:\\n\", C.numpy())\n",
    "\n",
    "# Matrix Addition: A + B (dimensions need to match for real scenarios)\n",
    "try:\n",
    "    D = tf.add(A, tf.slice(B, [0, 0], [3, 3]))\n",
    "    print(\"\\nMatrix D (A + B):\\n\", D.numpy())\n",
    "except Exception as e:\n",
    "    print(\"\\nError in matrix addition:\", e)\n",
    "\n",
    "# Matrix Multiplication: C * D\n",
    "try:\n",
    "    E = tf.matmul(C, tf.slice(D, [0, 0], [2, 2]))\n",
    "    print(\"\\nMatrix E (C * D):\\n\", E.numpy())\n",
    "except Exception as e:\n",
    "    print(\"\\nError in matrix multiplication:\", e)\n"
   ]
  },
  {
   "cell_type": "markdown",
   "id": "331b00fb",
   "metadata": {},
   "source": [
    "### Task 2: Performing Additional Matrix Operations"
   ]
  },
  {
   "cell_type": "code",
   "execution_count": null,
   "id": "5a51785e",
   "metadata": {},
   "outputs": [],
   "source": [
    "\n",
    "# Matrix F: 3x3 random_uniform\n",
    "F = tf.random.uniform([3, 3])\n",
    "print(\"Matrix F:\\n\", F.numpy())\n",
    "\n",
    "# Transpose of F\n",
    "G = tf.transpose(F)\n",
    "print(\"\\nMatrix G (Transpose of F):\\n\", G.numpy())\n",
    "\n",
    "# Element-wise exponential of F\n",
    "H = tf.exp(F)\n",
    "print(\"\\nMatrix H (Exponential of F):\\n\", H.numpy())\n",
    "\n",
    "# Concatenate F and G horizontally\n",
    "I = tf.concat([F, G], axis=1)\n",
    "print(\"\\nMatrix I (Horizontal Concatenation of F and G):\\n\", I.numpy())\n",
    "\n",
    "# Concatenate F and H vertically\n",
    "J = tf.concat([F, H], axis=0)\n",
    "print(\"\\nMatrix J (Vertical Concatenation of F and H):\\n\", J.numpy())\n"
   ]
  }
 ],
 "metadata": {},
 "nbformat": 4,
 "nbformat_minor": 5
}